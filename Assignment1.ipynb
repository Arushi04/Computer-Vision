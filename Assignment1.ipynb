{
 "cells": [
  {
   "cell_type": "markdown",
   "metadata": {},
   "source": [
    "#### Question 1 : Read an image (“Image_1.jpg”) and extract the following features of the image:\n",
    "1. Size of an image\n",
    "2. Pixels of an image\n",
    "3. Resolution of image\n",
    "4. Data type\n",
    "5. Random portion of image - show this portion in the submission file"
   ]
  },
  {
   "cell_type": "code",
   "execution_count": 1,
   "metadata": {},
   "outputs": [],
   "source": [
    "import cv2\n",
    "import numpy as np\n",
    "\n",
    "image_1= cv2.imread('practice_data/Image_1.jpg')"
   ]
  },
  {
   "cell_type": "code",
   "execution_count": 2,
   "metadata": {},
   "outputs": [
    {
     "data": {
      "text/plain": [
       "6912000"
      ]
     },
     "execution_count": 2,
     "metadata": {},
     "output_type": "execute_result"
    }
   ],
   "source": [
    "#1. Size of an image\n",
    "image_1.size"
   ]
  },
  {
   "cell_type": "code",
   "execution_count": 3,
   "metadata": {},
   "outputs": [
    {
     "data": {
      "text/plain": [
       "array([233, 145, 109], dtype=uint8)"
      ]
     },
     "execution_count": 3,
     "metadata": {},
     "output_type": "execute_result"
    }
   ],
   "source": [
    "#2 Pixels of an image\n",
    "image_1[0][0]"
   ]
  },
  {
   "cell_type": "code",
   "execution_count": 4,
   "metadata": {},
   "outputs": [
    {
     "name": "stdout",
     "output_type": "stream",
     "text": [
      "The resolution of the image is 1920x1200\n"
     ]
    }
   ],
   "source": [
    "#3 Resolution of an image\n",
    "image_1.shape\n",
    "\n",
    "height = image_1.shape[0]\n",
    "width = image_1.shape[1]\n",
    "\n",
    "print 'The resolution of the image is '+ str(width) + \"x\" + str(height)\n"
   ]
  },
  {
   "cell_type": "code",
   "execution_count": 5,
   "metadata": {},
   "outputs": [
    {
     "data": {
      "text/plain": [
       "numpy.ndarray"
      ]
     },
     "execution_count": 5,
     "metadata": {},
     "output_type": "execute_result"
    }
   ],
   "source": [
    "#4 Data type\n",
    "type(image_1)"
   ]
  },
  {
   "cell_type": "code",
   "execution_count": 6,
   "metadata": {},
   "outputs": [
    {
     "name": "stdout",
     "output_type": "stream",
     "text": [
      "741\n",
      "295\n",
      "1193\n",
      "1136\n"
     ]
    }
   ],
   "source": [
    "#5 Random portion of image - show this portion in the submission file\n",
    "import random\n",
    "\n",
    "x1 = random.randint(0,height)\n",
    "print(x1)\n",
    "y1 = random.randint(0,width)\n",
    "print(y1)\n",
    "x2 = random.randint(x1,height)\n",
    "print(x2)\n",
    "y2 = random.randint(y1,width)\n",
    "print(y2)\n",
    "new_image = image_1[x1:x2,y1:y2]\n",
    "\n",
    "#display the image\n",
    "cv2.imshow('from_system',new_image)\n",
    "cv2.waitKey(0)\n",
    "cv2.destroyAllWindows()"
   ]
  },
  {
   "cell_type": "markdown",
   "metadata": {},
   "source": [
    "#### Question 2 :  From the \"Image_1.jpg\" extract the red, green and blue pixels of the image and show them in a pie-chart. (Use only numpy for RGB pixels extraction, plotting can be done using any library)"
   ]
  },
  {
   "cell_type": "code",
   "execution_count": 7,
   "metadata": {},
   "outputs": [
    {
     "name": "stdout",
     "output_type": "stream",
     "text": [
      "(546796785, 427278091, 399170653)\n"
     ]
    }
   ],
   "source": [
    "image_1.shape\n",
    "def pixels(img):\n",
    "    R=0;G=0;B=0\n",
    "    for i in range(img.shape[0]):\n",
    "        for j in range(img.shape[1]):\n",
    "            pixel=image_1[i][j]\n",
    "            R += pixel[0]\n",
    "            G += pixel[1]\n",
    "            B += pixel[2] \n",
    "    print(R,G,B)\n",
    "    return R,G,B\n",
    "\n",
    "RGB_pixels = pixels(image_1)"
   ]
  },
  {
   "cell_type": "code",
   "execution_count": 9,
   "metadata": {},
   "outputs": [
    {
     "data": {
      "image/png": "[encoded data removed]",
      "text/plain": [
       "<Figure size 432x288 with 1 Axes>"
      ]
     },
     "metadata": {},
     "output_type": "display_data"
    }
   ],
   "source": [
    "import matplotlib.pyplot as plt\n",
    "image_1.sum(axis=0).sum(axis=1)\n",
    "\n",
    "\n",
    "# display the RGB in Pie chart\n",
    "labels = ['Red', 'Green', 'Blue']\n",
    "sizes = [RGB_pixels[0], RGB_pixels[1], RGB_pixels[2]]\n",
    "\n",
    "#colors\n",
    "colors = ['#ff9999','#66b3ff','#99ff99']\n",
    "\n",
    "fig1, ax1 = plt.subplots()\n",
    "\n",
    "patches, texts, autotexts = ax1.pie(sizes, colors = colors, labels=labels, autopct='%1.1f%%', startangle=90)\n",
    "ax1.axis('equal')  \n",
    "plt.tight_layout()\n",
    "plt.show()"
   ]
  },
  {
   "cell_type": "markdown",
   "metadata": {},
   "source": [
    "#### Question 3 : Read an input image and convert it to grayscale applying the formulas given below:Save the outputs into a folder named output.( Do not use cv2.cvtColor)\n",
    "\n",
    "1. Lightness method:\n",
    "grey=(max(R, G, B) + min(R, G, B)) / 2\n",
    "\n",
    "2. Average method:\n",
    "grey=(R + G + B) / 3\n",
    "\n",
    "3. Luminosity method:\n",
    "grey=0.21 R + 0.72 G + 0.07 B"
   ]
  },
  {
   "cell_type": "code",
   "execution_count": 14,
   "metadata": {},
   "outputs": [
    {
     "data": {
      "text/plain": [
       "True"
      ]
     },
     "execution_count": 14,
     "metadata": {},
     "output_type": "execute_result"
    }
   ],
   "source": [
    "image = cv2.imread('practice_data/Image_1.jpg')\n",
    "r,g,b = cv2.split(image)\n",
    "\n",
    "#Lightness method: \n",
    "grey = (np.maximum(r, g, b) + np.minimum(r, g, b)) / 2\n",
    "\n",
    "cv2.imwrite('output/lightness_img.png', grey)\n"
   ]
  },
  {
   "cell_type": "code",
   "execution_count": 12,
   "metadata": {},
   "outputs": [
    {
     "data": {
      "text/plain": [
       "True"
      ]
     },
     "execution_count": 12,
     "metadata": {},
     "output_type": "execute_result"
    }
   ],
   "source": [
    "#Average method: \n",
    "grey = (r+g+b)/3\n",
    "\n",
    "cv2.imwrite('output/average_img.png', grey)"
   ]
  },
  {
   "cell_type": "code",
   "execution_count": 13,
   "metadata": {},
   "outputs": [
    {
     "data": {
      "text/plain": [
       "True"
      ]
     },
     "execution_count": 13,
     "metadata": {},
     "output_type": "execute_result"
    }
   ],
   "source": [
    "#Luminosity method: grey=0.21 R + 0.72 G + 0.07 B\n",
    "\n",
    "grey=0.21*r + 0.72*g + 0.07*b\n",
    "\n",
    "cv2.imwrite('output/luminosity_img.png', grey)"
   ]
  },
  {
   "cell_type": "markdown",
   "metadata": {},
   "source": [
    "#### Question 4 : Go to practice_data/cv_demo_data For each image extract, the image name, folder in which it is located(label), size of #image, resolution, aspect ratio in a dataframe and save the output as data_exploration.csv"
   ]
  },
  {
   "cell_type": "code",
   "execution_count": 16,
   "metadata": {},
   "outputs": [],
   "source": [
    "import os\n",
    "import pandas as pd\n",
    "from __future__ import division\n",
    "os.getcwd()\n",
    "\n",
    "#list the contents of the current directory\n",
    "lis=os.listdir('practice_data/cv_demo_data')\n",
    "image_df =[]\n",
    "for items in lis:\n",
    "    detailed_list = os.listdir('practice_data/cv_demo_data/'+items)\n",
    "    for images in detailed_list:\n",
    "        img_name = images\n",
    "        im = cv2.imread('practice_data/cv_demo_data/'+items+'/'+images)\n",
    "        #print('Size of image : ', im.size)\n",
    "        height = im.shape[0]\n",
    "        width = im.shape[1]\n",
    "        #print 'The resolution of the image is '+ str(width) + \"x\" + str(height)\n",
    "        aspect_ratio = float(width) / height\n",
    "\n",
    "        image_df.append({'Image Name': img_name,'Folder Name':items, 'Image size': im.size,'Resolution': str(width)+\"X\"+str(height),'Aspect Ratio':aspect_ratio})\n",
    "        \n",
    "        df = pd.DataFrame(image_df)\n",
    "        df.to_csv('data_exploration.csv')        "
   ]
  },
  {
   "cell_type": "markdown",
   "metadata": {},
   "source": [
    "#### Question 5 : Given a collage of pictures in a single image c.jpeg. Separate the images and store them in a folder."
   ]
  },
  {
   "cell_type": "code",
   "execution_count": null,
   "metadata": {},
   "outputs": [],
   "source": [
    "img_collage = cv2.imread('c.jpeg')\n",
    "\n",
    "x=0\n",
    "y=0\n",
    "h = img_collage.shape[0]\n",
    "w = img_collage.shape[1]\n",
    "\n",
    "crop_img = img_collage[y:y+h/2, x:x+w]\n",
    "cv2.imshow(\"cropped\", crop_img)\n",
    "cv2.waitKey(0);/pl                                                                                                                          \n"
   ]
  },
  {
   "cell_type": "code",
   "execution_count": null,
   "metadata": {},
   "outputs": [],
   "source": [
    "x=0\n",
    "y=0\n",
    "h = img_collage.shape[0]\n",
    "w = img_collage.shape[1]\n",
    "\n",
    "crop_img = img_collage[y:y+h/2, x:x+w]\n",
    "cv2.imshow(\"cropped\", crop_img)\n",
    "cv2.waitKey(0)\n",
    "\n",
    "x1 = random.randint(0,height)\n",
    "print(x1)\n",
    "y1 = random.randint(0,width)\n",
    "print(y1)\n",
    "x2 = random.randint(x1,height)\n",
    "print(x2)\n",
    "y2 = random.randint(y1,width)\n",
    "print(y2)\n",
    "new_image = image_1[x1:x2,y1:y2]\n"
   ]
  },
  {
   "cell_type": "markdown",
   "metadata": {},
   "source": [
    "#### Question 6 :You are given a folder of images and you have to perform some tasks/operations on each of them and filter valid images.\n",
    "\n",
    "1. Don’t take if an image is duplicate (An image is matching exactly pixel to pixel with another image)\n",
    "2. Images with very less size are not needed. (Image should be atleast 50X50 pixels)\n",
    "3. Images having long/wide pixels are not needed. (Image having eitherwidth/height of the image is too less than other, The condition is ratio of them should not be more than 5).\n",
    "\n",
    "Store whichever passes all these conditions into a separate folder named valid"
   ]
  },
  {
   "cell_type": "code",
   "execution_count": null,
   "metadata": {},
   "outputs": [],
   "source": [
    "img_list=os.listdir('practice_data/cv_demo_data/business')\n",
    "img = cv2.imread('practice_data/cv_demo_data/business/books_0_206.jpg')\n",
    "print(img.shape)\n",
    "k = []\n",
    "for i in range(img.shape[0]):\n",
    "    for j in range(img.shape[1]):\n",
    "        k.append(img[i,j])\n",
    "        print(k)\n",
    "\n",
    "\n",
    "\n",
    "\n",
    "\n",
    "\n"
   ]
  }
 ],
 "metadata": {
  "kernelspec": {
   "display_name": "Python 2",
   "language": "python",
   "name": "python2"
  },
  "language_info": {
   "codemirror_mode": {
    "name": "ipython",
    "version": 2
   },
   "file_extension": ".py",
   "mimetype": "text/x-python",
   "name": "python",
   "nbconvert_exporter": "python",
   "pygments_lexer": "ipython2",
   "version": "2.7.14"
  }
 },
 "nbformat": 4,
 "nbformat_minor": 2
}
